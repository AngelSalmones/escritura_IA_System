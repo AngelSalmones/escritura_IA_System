{
  "nbformat": 4,
  "nbformat_minor": 0,
  "metadata": {
    "colab": {
      "name": "Limpio.ipynb",
      "provenance": [],
      "include_colab_link": true
    },
    "kernelspec": {
      "name": "python3",
      "display_name": "Python 3"
    },
    "accelerator": "GPU"
  },
  "cells": [
    {
      "cell_type": "markdown",
      "metadata": {
        "id": "view-in-github",
        "colab_type": "text"
      },
      "source": [
        "<a href=\"https://colab.research.google.com/github/AngelSalmones/escritura_IA_System/blob/develop/Limpio.ipynb\" target=\"_parent\"><img src=\"https://colab.research.google.com/assets/colab-badge.svg\" alt=\"Open In Colab\"/></a>"
      ]
    },
    {
      "cell_type": "markdown",
      "metadata": {
        "id": "XNSNy1meTVmQ",
        "colab_type": "text"
      },
      "source": [
        "Se comienza cargando la GPU para nuetro proyecto."
      ]
    },
    {
      "cell_type": "code",
      "metadata": {
        "id": "CcLNOJf-TQ8s",
        "colab_type": "code",
        "outputId": "12df5faf-6ba6-4737-bf06-92f26c1876f0",
        "colab": {
          "base_uri": "https://localhost:8080/",
          "height": 35
        }
      },
      "source": [
        "# Check if we have GPU available\n",
        "import tensorflow as tf\n",
        "device_name = tf.test.gpu_device_name()\n",
        "if device_name != '/device:GPU:0':\n",
        "  raise SystemError('GPU device not found')\n",
        "print('Found GPU at: {}'.format(device_name))"
      ],
      "execution_count": 0,
      "outputs": [
        {
          "output_type": "stream",
          "text": [
            "Found GPU at: /device:GPU:0\n"
          ],
          "name": "stdout"
        }
      ]
    },
    {
      "cell_type": "markdown",
      "metadata": {
        "id": "7gJdrAfjTU8i",
        "colab_type": "text"
      },
      "source": [
        "Instalamos la database emnist en el caso que que no se tenga."
      ]
    },
    {
      "cell_type": "code",
      "metadata": {
        "id": "fcOzFQUjUJrl",
        "colab_type": "code",
        "colab": {}
      },
      "source": [
        "# Installing emnist dataset in case we do not have it\n",
        "!pip install -q emnist"
      ],
      "execution_count": 0,
      "outputs": []
    },
    {
      "cell_type": "markdown",
      "metadata": {
        "id": "H0EhOxKmUMsL",
        "colab_type": "text"
      },
      "source": [
        "Importamos las librerias que necesita nuestro proyecto."
      ]
    },
    {
      "cell_type": "code",
      "metadata": {
        "id": "FfnYwrwvUXB6",
        "colab_type": "code",
        "colab": {}
      },
      "source": [
        "# Imports\n",
        "from emnist import extract_training_samples, extract_test_samples\n",
        "import matplotlib.pyplot as plt\n",
        "import numpy as np\n",
        "import tensorflow as tf\n",
        "from keras.models import Sequential\n",
        "from keras.layers import Dense, Dropout, Flatten\n",
        "from keras.layers import Conv2D, MaxPooling2D\n",
        "from keras import backend as K\n",
        "import keras\n",
        "import random"
      ],
      "execution_count": 0,
      "outputs": []
    },
    {
      "cell_type": "markdown",
      "metadata": {
        "id": "TzAwvxj3UxYA",
        "colab_type": "text"
      },
      "source": [
        "Se declaran variables."
      ]
    },
    {
      "cell_type": "code",
      "metadata": {
        "id": "wIAIUhn-VJy0",
        "colab_type": "code",
        "colab": {}
      },
      "source": [
        "# Variables\n",
        "batch_size = 128\n",
        "num_classes = 62\n",
        "epochs = 5"
      ],
      "execution_count": 0,
      "outputs": []
    },
    {
      "cell_type": "markdown",
      "metadata": {
        "id": "QuCuDUZ_XMOj",
        "colab_type": "text"
      },
      "source": [
        "Declaramos las dimensiones de nuestras imagenes."
      ]
    },
    {
      "cell_type": "code",
      "metadata": {
        "id": "c3OQfDunXQsO",
        "colab_type": "code",
        "colab": {}
      },
      "source": [
        "# Input image dimensions\n",
        "img_rows, img_cols = 28, 28"
      ],
      "execution_count": 0,
      "outputs": []
    },
    {
      "cell_type": "markdown",
      "metadata": {
        "id": "GFhX56gUXVMx",
        "colab_type": "text"
      },
      "source": [
        "Separamos nuestro dataset entre valores de entrenamiento y test."
      ]
    },
    {
      "cell_type": "code",
      "metadata": {
        "id": "hkj294YGU3bu",
        "colab_type": "code",
        "colab": {}
      },
      "source": [
        "# The data, split between train and test sets\n",
        "images_digits_training, labels_digits_training = extract_training_samples('digits')\n",
        "images_digits_test, labels_digits_test = extract_test_samples('digits')\n",
        "\n",
        "images_letters_training, labels_letters_training = extract_training_samples('letters')\n",
        "images_letters_test, labels_letters_test = extract_test_samples('letters')\n",
        "\n",
        "imagenes_prueba = np.copy(images_digits_training)\n",
        "labels_prueba = np.copy(labels_digits_training)\n",
        "\n",
        "ind = list(range(240000))\n",
        "\n",
        "random.shuffle(ind)\n",
        "\n",
        "imagenes_copia = images_digits_training[ind]\n",
        "\n",
        "labels_copia = labels_digits_training[ind]\n",
        "\n",
        "imagenes_copia = imagenes_copia[:2400]\n",
        "labels_copia = labels_copia[:2400]\n",
        "\n",
        "labels_letters_training = labels_letters_training + 9\n",
        "labels_letters_test = labels_letters_test + 9\n",
        "\n",
        "images_training = np.concatenate((imagenes_copia, images_letters_training))\n",
        "images_test = np.concatenate((images_digits_test, images_letters_test))\n",
        "labels_training = np.concatenate((labels_copia, labels_letters_training))\n",
        "labels_test = np.concatenate((labels_digits_test, labels_letters_test))"
      ],
      "execution_count": 0,
      "outputs": []
    },
    {
      "cell_type": "markdown",
      "metadata": {
        "id": "rXywetE0Xib0",
        "colab_type": "text"
      },
      "source": [
        "Pregunta la forma de las imagrnes y en el caso necesario las transforma.\n"
      ]
    },
    {
      "cell_type": "code",
      "metadata": {
        "id": "4ulxdf7ZXu0R",
        "colab_type": "code",
        "colab": {}
      },
      "source": [
        "# Reshaping images acording to the format in keras\n",
        "if K.image_data_format() == 'channels_first':\n",
        "    images_training = images_training.reshape(images_training.shape[0], 1, img_rows, img_cols)\n",
        "    images_test = images_test.reshape(images_test.shape[0], 1, img_rows, img_cols)\n",
        "    input_shape = (1, img_rows, img_cols)\n",
        "else:\n",
        "    images_training = images_training.reshape(images_training.shape[0], img_rows, img_cols, 1)\n",
        "    images_test = images_test.reshape(images_test.shape[0], img_rows, img_cols, 1)\n",
        "    input_shape = (img_rows, img_cols, 1)"
      ],
      "execution_count": 0,
      "outputs": []
    },
    {
      "cell_type": "markdown",
      "metadata": {
        "id": "Opzpuj8sXxo1",
        "colab_type": "text"
      },
      "source": [
        "Normaliza a las imagenes a numeros flotantes de [0,1]."
      ]
    },
    {
      "cell_type": "code",
      "metadata": {
        "id": "EUYql7p5YQku",
        "colab_type": "code",
        "outputId": "afb92083-e6a1-4140-8a40-4fbd76f20e92",
        "colab": {
          "base_uri": "https://localhost:8080/",
          "height": 71
        }
      },
      "source": [
        "images_training = images_training.astype('float32')\n",
        "images_test = images_test.astype('float32')\n",
        "images_training /= 255\n",
        "images_test /= 255\n",
        "print('images_training shape:', images_training.shape)\n",
        "print(images_training.shape[0], 'train samples')\n",
        "print(images_test.shape[0], 'test samples')"
      ],
      "execution_count": 0,
      "outputs": [
        {
          "output_type": "stream",
          "text": [
            "images_training shape: (127200, 28, 28, 1)\n",
            "127200 train samples\n",
            "60800 test samples\n"
          ],
          "name": "stdout"
        }
      ]
    },
    {
      "cell_type": "markdown",
      "metadata": {
        "id": "g6BsmziTYUwd",
        "colab_type": "text"
      },
      "source": [
        "Convierte los vectores a matrices."
      ]
    },
    {
      "cell_type": "code",
      "metadata": {
        "id": "9g-uOz-IYr1p",
        "colab_type": "code",
        "colab": {}
      },
      "source": [
        "# Convert class vectors to binary class matrices\n",
        "labels_training = keras.utils.to_categorical(labels_training, num_classes)\n",
        "labels_test = keras.utils.to_categorical(labels_test, num_classes)"
      ],
      "execution_count": 0,
      "outputs": []
    },
    {
      "cell_type": "markdown",
      "metadata": {
        "id": "DiRI-ZD-Yuzv",
        "colab_type": "text"
      },
      "source": [
        "Se crea el modelo."
      ]
    },
    {
      "cell_type": "code",
      "metadata": {
        "id": "h-ax5o1OY2C_",
        "colab_type": "code",
        "colab": {}
      },
      "source": [
        "# Creating the model\n",
        "model = Sequential()\n",
        "model.add(Conv2D(32, kernel_size=(3, 3),activation='relu',input_shape=input_shape))\n",
        "model.add(Conv2D(64, kernel_size=(3, 3),activation='relu',input_shape=input_shape))\n",
        "#Cosas que yo modifique \n",
        "model.add(Conv2D(256, kernel_size=(3, 3),activation='relu',input_shape=input_shape))\n",
        "model.add(Conv2D(128, kernel_size=(3, 3),activation='relu',input_shape=input_shape))\n",
        "######\n",
        "model.add(Conv2D(128, (3, 3), activation='relu'))\n",
        "model.add(MaxPooling2D(pool_size=(2, 2)))\n",
        "model.add(Dropout(0.25))\n",
        "model.add(Flatten())\n",
        "model.add(Dense(128, activation='relu'))\n",
        "model.add(Dropout(0.5))\n",
        "model.add(Dense(num_classes, activation='softmax'))\n",
        "\n",
        "model.compile(loss=keras.losses.categorical_crossentropy,\n",
        "              optimizer=keras.optimizers.Adadelta(),\n",
        "              metrics=['accuracy'])"
      ],
      "execution_count": 0,
      "outputs": []
    },
    {
      "cell_type": "markdown",
      "metadata": {
        "id": "RvzyhU90Y3yE",
        "colab_type": "text"
      },
      "source": [
        "Entrenamos el modelo."
      ]
    },
    {
      "cell_type": "code",
      "metadata": {
        "id": "-y3rN7pdZWt6",
        "colab_type": "code",
        "outputId": "2fcc0338-340f-4fd6-a9cb-8e97f4f10614",
        "colab": {
          "base_uri": "https://localhost:8080/",
          "height": 233
        }
      },
      "source": [
        "#Training the model\n",
        "model.fit(images_training, labels_training,\n",
        "          batch_size=batch_size,\n",
        "          epochs=epochs,\n",
        "          verbose=1,\n",
        "          validation_data=(images_test, labels_test))"
      ],
      "execution_count": 0,
      "outputs": [
        {
          "output_type": "stream",
          "text": [
            "Train on 127200 samples, validate on 60800 samples\n",
            "Epoch 1/5\n",
            "127200/127200 [==============================] - 102s 802us/step - loss: 0.8356 - acc: 0.7670 - val_loss: 1.8730 - val_acc: 0.5225\n",
            "Epoch 2/5\n",
            "127200/127200 [==============================] - 101s 793us/step - loss: 0.3726 - acc: 0.8884 - val_loss: 1.5495 - val_acc: 0.5777\n",
            "Epoch 3/5\n",
            "127200/127200 [==============================] - 101s 792us/step - loss: 0.3119 - acc: 0.9061 - val_loss: 1.2012 - val_acc: 0.6147\n",
            "Epoch 4/5\n",
            "127200/127200 [==============================] - 100s 790us/step - loss: 0.2793 - acc: 0.9138 - val_loss: 1.3703 - val_acc: 0.6119\n",
            "Epoch 5/5\n",
            "127200/127200 [==============================] - 100s 790us/step - loss: 0.2607 - acc: 0.9187 - val_loss: 1.3775 - val_acc: 0.6248\n"
          ],
          "name": "stdout"
        },
        {
          "output_type": "execute_result",
          "data": {
            "text/plain": [
              "<keras.callbacks.History at 0x7fefaedad2b0>"
            ]
          },
          "metadata": {
            "tags": []
          },
          "execution_count": 22
        }
      ]
    },
    {
      "cell_type": "markdown",
      "metadata": {
        "id": "sJ8J0Mq_ZZnV",
        "colab_type": "text"
      },
      "source": [
        "Evaluamos el modelo."
      ]
    },
    {
      "cell_type": "code",
      "metadata": {
        "id": "RMDYSDaaZoxP",
        "colab_type": "code",
        "colab": {}
      },
      "source": [
        "# Model Score\n",
        "val_loss, val_acc = model.evaluate(images_test, labels_test)\n",
        "predictions = model.predict([images_test])\n",
        "print(np.argmax(predictions[1]))\n",
        "print(images_test[1].shape)\n",
        "plt.imshow(images_test[1][:,:,0], cmap='binary')\n",
        "plt.show()\n",
        "\n",
        "print('Test loss:', val_loss)\n",
        "print('Test accuracy:', val_acc)"
      ],
      "execution_count": 0,
      "outputs": []
    },
    {
      "cell_type": "markdown",
      "metadata": {
        "id": "fvdOBUWYaA4t",
        "colab_type": "text"
      },
      "source": [
        "Guardamos la molecula."
      ]
    },
    {
      "cell_type": "code",
      "metadata": {
        "id": "eYpJ6Qw3aUz5",
        "colab_type": "code",
        "outputId": "d8c01a70-a1af-4045-dafa-b37aeda5c532",
        "colab": {
          "base_uri": "https://localhost:8080/",
          "height": 55
        }
      },
      "source": [
        "from google.colab import drive\n",
        "drive.mount('/content/gdrive')\n",
        "root_dir = \"/content/gdrive/My Drive/\"\n",
        "base_dir = root_dir + 'RedNeuronal/Models/'\n",
        "model.save(base_dir+\"siquiero.model\")\n",
        "#model.save(\"siquiero.model\")"
      ],
      "execution_count": 0,
      "outputs": [
        {
          "output_type": "stream",
          "text": [
            "Drive already mounted at /content/gdrive; to attempt to forcibly remount, call drive.mount(\"/content/gdrive\", force_remount=True).\n"
          ],
          "name": "stdout"
        }
      ]
    }
  ]
}